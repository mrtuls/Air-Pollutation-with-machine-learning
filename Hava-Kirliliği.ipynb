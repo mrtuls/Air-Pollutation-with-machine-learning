{
 "cells": [
  {
   "cell_type": "code",
   "execution_count": 8,
   "id": "c01c56e7",
   "metadata": {},
   "outputs": [],
   "source": [
    "import numpy as np\n",
    "%matplotlib inline\n",
    "import matplotlib.pyplot as plt\n",
    "import pandas as pd \n",
    "from datetime import datetime\n",
    "\n",
    "#Conert into datetime format\n",
    "def parse(x):\n",
    "    return datetime.strptime(x, '%Y %m %d %H')\n",
    "                          \n",
    "org_col_names=[\"No\", \"year\",\"month\", \"day\", \"hour\", \"pm2.5\", \"DEWP\",\"TEMP\", \"PRES\", \"cbwd\", \"Iws\", \"Is\", \"Ir\"]\n",
    "col_names = ['pollution', 'dew', 'temp', 'pressure', 'w_dir', 'w_speed', 'snow', 'rain']   \n",
    "                            \n",
    "dataset = pd.read_csv('AirPollution.csv',index_col=0, date_parser=parse,parse_dates=[['year', 'month', 'day', 'hour']]) "
   ]
  },
  {
   "cell_type": "code",
   "execution_count": 9,
   "id": "213cc67e",
   "metadata": {},
   "outputs": [
    {
     "data": {
      "text/html": [
       "<div>\n",
       "<style scoped>\n",
       "    .dataframe tbody tr th:only-of-type {\n",
       "        vertical-align: middle;\n",
       "    }\n",
       "\n",
       "    .dataframe tbody tr th {\n",
       "        vertical-align: top;\n",
       "    }\n",
       "\n",
       "    .dataframe thead th {\n",
       "        text-align: right;\n",
       "    }\n",
       "</style>\n",
       "<table border=\"1\" class=\"dataframe\">\n",
       "  <thead>\n",
       "    <tr style=\"text-align: right;\">\n",
       "      <th></th>\n",
       "      <th>No</th>\n",
       "      <th>pm2.5</th>\n",
       "      <th>DEWP</th>\n",
       "      <th>TEMP</th>\n",
       "      <th>PRES</th>\n",
       "      <th>cbwd</th>\n",
       "      <th>Iws</th>\n",
       "      <th>Is</th>\n",
       "      <th>Ir</th>\n",
       "    </tr>\n",
       "    <tr>\n",
       "      <th>year_month_day_hour</th>\n",
       "      <th></th>\n",
       "      <th></th>\n",
       "      <th></th>\n",
       "      <th></th>\n",
       "      <th></th>\n",
       "      <th></th>\n",
       "      <th></th>\n",
       "      <th></th>\n",
       "      <th></th>\n",
       "    </tr>\n",
       "  </thead>\n",
       "  <tbody>\n",
       "    <tr>\n",
       "      <th>2010-01-01 00:00:00</th>\n",
       "      <td>1</td>\n",
       "      <td>NaN</td>\n",
       "      <td>-21</td>\n",
       "      <td>-11.0</td>\n",
       "      <td>1021.0</td>\n",
       "      <td>NW</td>\n",
       "      <td>1.79</td>\n",
       "      <td>0</td>\n",
       "      <td>0</td>\n",
       "    </tr>\n",
       "    <tr>\n",
       "      <th>2010-01-01 01:00:00</th>\n",
       "      <td>2</td>\n",
       "      <td>NaN</td>\n",
       "      <td>-21</td>\n",
       "      <td>-12.0</td>\n",
       "      <td>1020.0</td>\n",
       "      <td>NW</td>\n",
       "      <td>4.92</td>\n",
       "      <td>0</td>\n",
       "      <td>0</td>\n",
       "    </tr>\n",
       "    <tr>\n",
       "      <th>2010-01-01 02:00:00</th>\n",
       "      <td>3</td>\n",
       "      <td>NaN</td>\n",
       "      <td>-21</td>\n",
       "      <td>-11.0</td>\n",
       "      <td>1019.0</td>\n",
       "      <td>NW</td>\n",
       "      <td>6.71</td>\n",
       "      <td>0</td>\n",
       "      <td>0</td>\n",
       "    </tr>\n",
       "    <tr>\n",
       "      <th>2010-01-01 03:00:00</th>\n",
       "      <td>4</td>\n",
       "      <td>NaN</td>\n",
       "      <td>-21</td>\n",
       "      <td>-14.0</td>\n",
       "      <td>1019.0</td>\n",
       "      <td>NW</td>\n",
       "      <td>9.84</td>\n",
       "      <td>0</td>\n",
       "      <td>0</td>\n",
       "    </tr>\n",
       "    <tr>\n",
       "      <th>2010-01-01 04:00:00</th>\n",
       "      <td>5</td>\n",
       "      <td>NaN</td>\n",
       "      <td>-20</td>\n",
       "      <td>-12.0</td>\n",
       "      <td>1018.0</td>\n",
       "      <td>NW</td>\n",
       "      <td>12.97</td>\n",
       "      <td>0</td>\n",
       "      <td>0</td>\n",
       "    </tr>\n",
       "  </tbody>\n",
       "</table>\n",
       "</div>"
      ],
      "text/plain": [
       "                     No  pm2.5  DEWP  TEMP    PRES cbwd    Iws  Is  Ir\n",
       "year_month_day_hour                                                   \n",
       "2010-01-01 00:00:00   1    NaN   -21 -11.0  1021.0   NW   1.79   0   0\n",
       "2010-01-01 01:00:00   2    NaN   -21 -12.0  1020.0   NW   4.92   0   0\n",
       "2010-01-01 02:00:00   3    NaN   -21 -11.0  1019.0   NW   6.71   0   0\n",
       "2010-01-01 03:00:00   4    NaN   -21 -14.0  1019.0   NW   9.84   0   0\n",
       "2010-01-01 04:00:00   5    NaN   -20 -12.0  1018.0   NW  12.97   0   0"
      ]
     },
     "execution_count": 9,
     "metadata": {},
     "output_type": "execute_result"
    }
   ],
   "source": [
    "dataset.head()"
   ]
  },
  {
   "cell_type": "code",
   "execution_count": 10,
   "id": "0ad03791",
   "metadata": {},
   "outputs": [
    {
     "name": "stdout",
     "output_type": "stream",
     "text": [
      "                     pollution  dew  temp  pressure w_dir  w_speed  snow  rain\n",
      "year_month_day_hour                                                           \n",
      "2010-01-02 00:00:00      129.0  -16  -4.0    1020.0    SE     1.79     0     0\n",
      "2010-01-02 01:00:00      148.0  -15  -4.0    1020.0    SE     2.68     0     0\n",
      "2010-01-02 02:00:00      159.0  -11  -5.0    1021.0    SE     3.57     0     0\n",
      "2010-01-02 03:00:00      181.0   -7  -5.0    1022.0    SE     5.36     1     0\n",
      "2010-01-02 04:00:00      138.0   -7  -5.0    1022.0    SE     6.25     2     0\n"
     ]
    }
   ],
   "source": [
    "dataset.drop('No', axis=1, inplace=True)\n",
    "dataset.columns = col_names\n",
    "dataset['pollution'].fillna(0, inplace=True)\n",
    "dataset = dataset[24:] \n",
    "print(dataset.head(5))\n",
    "dataset.to_csv('pollution.csv') \n"
   ]
  },
  {
   "cell_type": "code",
   "execution_count": 11,
   "id": "bf3076dd",
   "metadata": {},
   "outputs": [
    {
     "data": {
      "text/html": [
       "<div>\n",
       "<style scoped>\n",
       "    .dataframe tbody tr th:only-of-type {\n",
       "        vertical-align: middle;\n",
       "    }\n",
       "\n",
       "    .dataframe tbody tr th {\n",
       "        vertical-align: top;\n",
       "    }\n",
       "\n",
       "    .dataframe thead th {\n",
       "        text-align: right;\n",
       "    }\n",
       "</style>\n",
       "<table border=\"1\" class=\"dataframe\">\n",
       "  <thead>\n",
       "    <tr style=\"text-align: right;\">\n",
       "      <th></th>\n",
       "      <th>pollution</th>\n",
       "      <th>dew</th>\n",
       "      <th>temp</th>\n",
       "      <th>pressure</th>\n",
       "      <th>w_speed</th>\n",
       "      <th>snow</th>\n",
       "      <th>rain</th>\n",
       "    </tr>\n",
       "  </thead>\n",
       "  <tbody>\n",
       "    <tr>\n",
       "      <th>count</th>\n",
       "      <td>43800.000000</td>\n",
       "      <td>43800.000000</td>\n",
       "      <td>43800.000000</td>\n",
       "      <td>43800.000000</td>\n",
       "      <td>43800.000000</td>\n",
       "      <td>43800.000000</td>\n",
       "      <td>43800.000000</td>\n",
       "    </tr>\n",
       "    <tr>\n",
       "      <th>mean</th>\n",
       "      <td>94.013516</td>\n",
       "      <td>1.828516</td>\n",
       "      <td>12.459041</td>\n",
       "      <td>1016.447306</td>\n",
       "      <td>23.894307</td>\n",
       "      <td>0.052763</td>\n",
       "      <td>0.195023</td>\n",
       "    </tr>\n",
       "    <tr>\n",
       "      <th>std</th>\n",
       "      <td>92.252276</td>\n",
       "      <td>14.429326</td>\n",
       "      <td>12.193384</td>\n",
       "      <td>10.271411</td>\n",
       "      <td>50.022729</td>\n",
       "      <td>0.760582</td>\n",
       "      <td>1.416247</td>\n",
       "    </tr>\n",
       "    <tr>\n",
       "      <th>min</th>\n",
       "      <td>0.000000</td>\n",
       "      <td>-40.000000</td>\n",
       "      <td>-19.000000</td>\n",
       "      <td>991.000000</td>\n",
       "      <td>0.450000</td>\n",
       "      <td>0.000000</td>\n",
       "      <td>0.000000</td>\n",
       "    </tr>\n",
       "    <tr>\n",
       "      <th>25%</th>\n",
       "      <td>24.000000</td>\n",
       "      <td>-10.000000</td>\n",
       "      <td>2.000000</td>\n",
       "      <td>1008.000000</td>\n",
       "      <td>1.790000</td>\n",
       "      <td>0.000000</td>\n",
       "      <td>0.000000</td>\n",
       "    </tr>\n",
       "    <tr>\n",
       "      <th>50%</th>\n",
       "      <td>68.000000</td>\n",
       "      <td>2.000000</td>\n",
       "      <td>14.000000</td>\n",
       "      <td>1016.000000</td>\n",
       "      <td>5.370000</td>\n",
       "      <td>0.000000</td>\n",
       "      <td>0.000000</td>\n",
       "    </tr>\n",
       "    <tr>\n",
       "      <th>75%</th>\n",
       "      <td>132.250000</td>\n",
       "      <td>15.000000</td>\n",
       "      <td>23.000000</td>\n",
       "      <td>1025.000000</td>\n",
       "      <td>21.910000</td>\n",
       "      <td>0.000000</td>\n",
       "      <td>0.000000</td>\n",
       "    </tr>\n",
       "    <tr>\n",
       "      <th>max</th>\n",
       "      <td>994.000000</td>\n",
       "      <td>28.000000</td>\n",
       "      <td>42.000000</td>\n",
       "      <td>1046.000000</td>\n",
       "      <td>585.600000</td>\n",
       "      <td>27.000000</td>\n",
       "      <td>36.000000</td>\n",
       "    </tr>\n",
       "  </tbody>\n",
       "</table>\n",
       "</div>"
      ],
      "text/plain": [
       "          pollution           dew          temp      pressure       w_speed  \\\n",
       "count  43800.000000  43800.000000  43800.000000  43800.000000  43800.000000   \n",
       "mean      94.013516      1.828516     12.459041   1016.447306     23.894307   \n",
       "std       92.252276     14.429326     12.193384     10.271411     50.022729   \n",
       "min        0.000000    -40.000000    -19.000000    991.000000      0.450000   \n",
       "25%       24.000000    -10.000000      2.000000   1008.000000      1.790000   \n",
       "50%       68.000000      2.000000     14.000000   1016.000000      5.370000   \n",
       "75%      132.250000     15.000000     23.000000   1025.000000     21.910000   \n",
       "max      994.000000     28.000000     42.000000   1046.000000    585.600000   \n",
       "\n",
       "               snow          rain  \n",
       "count  43800.000000  43800.000000  \n",
       "mean       0.052763      0.195023  \n",
       "std        0.760582      1.416247  \n",
       "min        0.000000      0.000000  \n",
       "25%        0.000000      0.000000  \n",
       "50%        0.000000      0.000000  \n",
       "75%        0.000000      0.000000  \n",
       "max       27.000000     36.000000  "
      ]
     },
     "execution_count": 11,
     "metadata": {},
     "output_type": "execute_result"
    }
   ],
   "source": [
    "# veriyi yükleme\n",
    "df = pd.read_csv('pollution.csv', header=0, index_col=0)\n",
    "df.describe()"
   ]
  },
  {
   "cell_type": "code",
   "execution_count": 12,
   "id": "a05b8ef8",
   "metadata": {},
   "outputs": [
    {
     "data": {
      "text/plain": [
       "['pollution', 'dew', 'temp', 'pressure', 'w_dir', 'w_speed', 'snow', 'rain']"
      ]
     },
     "execution_count": 12,
     "metadata": {},
     "output_type": "execute_result"
    }
   ],
   "source": [
    "dataset_columns = df.columns.tolist()\n",
    "dataset_columns"
   ]
  },
  {
   "cell_type": "code",
   "execution_count": 13,
   "id": "ad478b5f",
   "metadata": {},
   "outputs": [
    {
     "data": {
      "text/html": [
       "<div>\n",
       "<style scoped>\n",
       "    .dataframe tbody tr th:only-of-type {\n",
       "        vertical-align: middle;\n",
       "    }\n",
       "\n",
       "    .dataframe tbody tr th {\n",
       "        vertical-align: top;\n",
       "    }\n",
       "\n",
       "    .dataframe thead th {\n",
       "        text-align: right;\n",
       "    }\n",
       "</style>\n",
       "<table border=\"1\" class=\"dataframe\">\n",
       "  <thead>\n",
       "    <tr style=\"text-align: right;\">\n",
       "      <th></th>\n",
       "      <th>pollution</th>\n",
       "    </tr>\n",
       "    <tr>\n",
       "      <th>year_month_day_hour</th>\n",
       "      <th></th>\n",
       "    </tr>\n",
       "  </thead>\n",
       "  <tbody>\n",
       "    <tr>\n",
       "      <th>2010-01-02 00:00:00</th>\n",
       "      <td>129.0</td>\n",
       "    </tr>\n",
       "    <tr>\n",
       "      <th>2010-01-02 01:00:00</th>\n",
       "      <td>148.0</td>\n",
       "    </tr>\n",
       "    <tr>\n",
       "      <th>2010-01-02 02:00:00</th>\n",
       "      <td>159.0</td>\n",
       "    </tr>\n",
       "    <tr>\n",
       "      <th>2010-01-02 03:00:00</th>\n",
       "      <td>181.0</td>\n",
       "    </tr>\n",
       "    <tr>\n",
       "      <th>2010-01-02 04:00:00</th>\n",
       "      <td>138.0</td>\n",
       "    </tr>\n",
       "  </tbody>\n",
       "</table>\n",
       "</div>"
      ],
      "text/plain": [
       "                     pollution\n",
       "year_month_day_hour           \n",
       "2010-01-02 00:00:00      129.0\n",
       "2010-01-02 01:00:00      148.0\n",
       "2010-01-02 02:00:00      159.0\n",
       "2010-01-02 03:00:00      181.0\n",
       "2010-01-02 04:00:00      138.0"
      ]
     },
     "execution_count": 13,
     "metadata": {},
     "output_type": "execute_result"
    }
   ],
   "source": [
    "#Kirlilik sütunu dışındaki diğer sütunları kaldırma\n",
    "df = df.drop(['dew', 'temp', 'pressure', 'w_dir', 'w_speed', 'snow', 'rain'],axis = 1)\n",
    "df.head()"
   ]
  },
  {
   "cell_type": "code",
   "execution_count": 14,
   "id": "a91b2f20",
   "metadata": {},
   "outputs": [
    {
     "data": {
      "text/html": [
       "<div>\n",
       "<style scoped>\n",
       "    .dataframe tbody tr th:only-of-type {\n",
       "        vertical-align: middle;\n",
       "    }\n",
       "\n",
       "    .dataframe tbody tr th {\n",
       "        vertical-align: top;\n",
       "    }\n",
       "\n",
       "    .dataframe thead th {\n",
       "        text-align: right;\n",
       "    }\n",
       "</style>\n",
       "<table border=\"1\" class=\"dataframe\">\n",
       "  <thead>\n",
       "    <tr style=\"text-align: right;\">\n",
       "      <th></th>\n",
       "      <th>pollution</th>\n",
       "    </tr>\n",
       "    <tr>\n",
       "      <th>year_month_day_hour</th>\n",
       "      <th></th>\n",
       "    </tr>\n",
       "  </thead>\n",
       "  <tbody>\n",
       "    <tr>\n",
       "      <th>2014-12-31 19:00:00</th>\n",
       "      <td>8.0</td>\n",
       "    </tr>\n",
       "    <tr>\n",
       "      <th>2014-12-31 20:00:00</th>\n",
       "      <td>10.0</td>\n",
       "    </tr>\n",
       "    <tr>\n",
       "      <th>2014-12-31 21:00:00</th>\n",
       "      <td>10.0</td>\n",
       "    </tr>\n",
       "    <tr>\n",
       "      <th>2014-12-31 22:00:00</th>\n",
       "      <td>8.0</td>\n",
       "    </tr>\n",
       "    <tr>\n",
       "      <th>2014-12-31 23:00:00</th>\n",
       "      <td>12.0</td>\n",
       "    </tr>\n",
       "  </tbody>\n",
       "</table>\n",
       "</div>"
      ],
      "text/plain": [
       "                     pollution\n",
       "year_month_day_hour           \n",
       "2014-12-31 19:00:00        8.0\n",
       "2014-12-31 20:00:00       10.0\n",
       "2014-12-31 21:00:00       10.0\n",
       "2014-12-31 22:00:00        8.0\n",
       "2014-12-31 23:00:00       12.0"
      ]
     },
     "execution_count": 14,
     "metadata": {},
     "output_type": "execute_result"
    }
   ],
   "source": [
    "df.tail()"
   ]
  },
  {
   "cell_type": "code",
   "execution_count": 15,
   "id": "830fc5f5",
   "metadata": {},
   "outputs": [
    {
     "data": {
      "text/plain": [
       "<AxesSubplot:>"
      ]
     },
     "execution_count": 15,
     "metadata": {},
     "output_type": "execute_result"
    },
    {
     "data": {
      "image/png": "[encoded data removed]",
      "text/plain": [
       "<Figure size 432x288 with 1 Axes>"
      ]
     },
     "metadata": {
      "needs_background": "light"
     },
     "output_type": "display_data"
    }
   ],
   "source": [
    "#Box plot\n",
    "#pd.options.display.mpl_style = False\n",
    "df.boxplot()"
   ]
  },
  {
   "cell_type": "code",
   "execution_count": 16,
   "id": "b52c6781",
   "metadata": {},
   "outputs": [],
   "source": [
    "#Verileri normalleştirme\n",
    "from sklearn.preprocessing import MinMaxScaler\n",
    "\n",
    "values = df.values\n",
    "scaler = MinMaxScaler(feature_range=(0, 1))\n",
    "scaled_dataset = scaler.fit_transform(values)"
   ]
  },
  {
   "cell_type": "code",
   "execution_count": 17,
   "id": "118d9e3e",
   "metadata": {},
   "outputs": [
    {
     "data": {
      "text/plain": [
       "array([[0.12977867],\n",
       "       [0.14889336]])"
      ]
     },
     "execution_count": 17,
     "metadata": {},
     "output_type": "execute_result"
    }
   ],
   "source": [
    "scaled_dataset[:2,:]"
   ]
  },
  {
   "cell_type": "code",
   "execution_count": 18,
   "id": "331f1405",
   "metadata": {},
   "outputs": [],
   "source": [
    "def to_supervised(train):\n",
    "  window_size = 4\n",
    "  X = []\n",
    "  Y = []\n",
    "  for i in range(window_size, len(train)):\n",
    "    X.append(train[i-window_size:i,:])\n",
    "    Y.append(train[i,0:1])\n",
    "    \n",
    "  return X,Y"
   ]
  },
  {
   "cell_type": "code",
   "execution_count": 19,
   "id": "5644afc2",
   "metadata": {},
   "outputs": [
    {
     "name": "stdout",
     "output_type": "stream",
     "text": [
      "Y (43796, 1)\n",
      "X (43796, 4, 1)\n"
     ]
    }
   ],
   "source": [
    "X, Y = to_supervised(scaled_dataset)\n",
    "X = np.array(X)\n",
    "Y = np.array(Y)\n",
    "print('Y' ,Y.shape)\n",
    "print('X' ,X.shape)"
   ]
  },
  {
   "cell_type": "code",
   "execution_count": 20,
   "id": "89c832fa",
   "metadata": {},
   "outputs": [
    {
     "name": "stdout",
     "output_type": "stream",
     "text": [
      "X_train (35036, 4, 1)\n",
      "X_test (8760, 4, 1)\n",
      "Y_train (35036, 1)\n",
      "Y_test (8760, 1)\n"
     ]
    }
   ],
   "source": [
    "#Veri kümesini bölme\n",
    "n_train = 24*365\n",
    "X_train, X_test = X[n_train:,] , X[:n_train,]\n",
    "print('X_train' ,X_train.shape)\n",
    "print('X_test' ,X_test.shape)\n",
    "\n",
    "Y_train, Y_test = Y[n_train:,] , Y[:n_train,]\n",
    "print('Y_train' ,Y_train.shape)\n",
    "print('Y_test' ,Y_test.shape)"
   ]
  },
  {
   "cell_type": "code",
   "execution_count": 21,
   "id": "ad712d90",
   "metadata": {},
   "outputs": [],
   "source": [
    "#LSTM modelini import etme\n",
    "from keras.models import Sequential\n",
    "from keras.layers import Dense, Dropout,LSTM\n",
    "model = Sequential()\n",
    "\n",
    "model.add(LSTM(units = 50, return_sequences = True, input_shape=(X_train.shape[1], X_train.shape[2])))\n",
    "model.add(Dropout(0.2))\n",
    "\n",
    "model.add(LSTM(units = 50, return_sequences = True))\n",
    "model.add(Dropout(0.2))\n",
    "\n",
    "model.add(LSTM(units = 50))\n",
    "model.add(Dropout(0.2))\n",
    "\n",
    "model.add(Dense(units = 1))\n",
    "\n",
    "model.compile(optimizer = 'adam', loss = 'mean_squared_error')  "
   ]
  },
  {
   "cell_type": "code",
   "execution_count": 22,
   "id": "472faffc",
   "metadata": {},
   "outputs": [
    {
     "name": "stdout",
     "output_type": "stream",
     "text": [
      "Epoch 1/30\n",
      "1095/1095 [==============================] - 6s 3ms/step - loss: 0.0018\n",
      "Epoch 2/30\n",
      "1095/1095 [==============================] - 3s 3ms/step - loss: 8.7772e-04\n",
      "Epoch 3/30\n",
      "1095/1095 [==============================] - 3s 3ms/step - loss: 8.5812e-04\n",
      "Epoch 4/30\n",
      "1095/1095 [==============================] - 3s 3ms/step - loss: 8.4349e-04\n",
      "Epoch 5/30\n",
      "1095/1095 [==============================] - 3s 3ms/step - loss: 8.4471e-04\n",
      "Epoch 6/30\n",
      "1095/1095 [==============================] - 3s 3ms/step - loss: 8.4150e-04\n",
      "Epoch 7/30\n",
      "1095/1095 [==============================] - 3s 3ms/step - loss: 8.4007e-04\n",
      "Epoch 8/30\n",
      "1095/1095 [==============================] - 3s 3ms/step - loss: 8.2236e-04\n",
      "Epoch 9/30\n",
      "1095/1095 [==============================] - 3s 3ms/step - loss: 8.2514e-04\n",
      "Epoch 10/30\n",
      "1095/1095 [==============================] - 3s 3ms/step - loss: 8.2469e-04\n",
      "Epoch 11/30\n",
      "1095/1095 [==============================] - 3s 3ms/step - loss: 8.1184e-04\n",
      "Epoch 12/30\n",
      "1095/1095 [==============================] - 3s 3ms/step - loss: 8.1147e-04\n",
      "Epoch 13/30\n",
      "1095/1095 [==============================] - 3s 3ms/step - loss: 8.1387e-04\n",
      "Epoch 14/30\n",
      "1095/1095 [==============================] - 3s 3ms/step - loss: 8.1243e-04\n",
      "Epoch 15/30\n",
      "1095/1095 [==============================] - 3s 3ms/step - loss: 7.9749e-04\n",
      "Epoch 16/30\n",
      "1095/1095 [==============================] - 3s 3ms/step - loss: 7.9390e-04\n",
      "Epoch 17/30\n",
      "1095/1095 [==============================] - 3s 3ms/step - loss: 8.0929e-04\n",
      "Epoch 18/30\n",
      "1095/1095 [==============================] - 3s 3ms/step - loss: 7.9694e-04\n",
      "Epoch 19/30\n",
      "1095/1095 [==============================] - 3s 3ms/step - loss: 7.9375e-04\n",
      "Epoch 20/30\n",
      "1095/1095 [==============================] - 3s 3ms/step - loss: 7.8338e-04\n",
      "Epoch 21/30\n",
      "1095/1095 [==============================] - 4s 3ms/step - loss: 7.9265e-04\n",
      "Epoch 22/30\n",
      "1095/1095 [==============================] - 3s 3ms/step - loss: 8.0091e-04\n",
      "Epoch 23/30\n",
      "1095/1095 [==============================] - 3s 3ms/step - loss: 7.8397e-04\n",
      "Epoch 24/30\n",
      "1095/1095 [==============================] - 3s 3ms/step - loss: 7.9906e-04\n",
      "Epoch 25/30\n",
      "1095/1095 [==============================] - 3s 3ms/step - loss: 7.8557e-04\n",
      "Epoch 26/30\n",
      "1095/1095 [==============================] - 3s 3ms/step - loss: 7.8681e-04\n",
      "Epoch 27/30\n",
      "1095/1095 [==============================] - 3s 3ms/step - loss: 7.7582e-04\n",
      "Epoch 28/30\n",
      "1095/1095 [==============================] - 3s 3ms/step - loss: 7.6830e-04\n",
      "Epoch 29/30\n",
      "1095/1095 [==============================] - 3s 3ms/step - loss: 7.8861e-04\n",
      "Epoch 30/30\n",
      "1095/1095 [==============================] - 3s 3ms/step - loss: 7.8058e-04\n"
     ]
    },
    {
     "data": {
      "text/plain": [
       "<keras.callbacks.History at 0x26f91ae8160>"
      ]
     },
     "execution_count": 22,
     "metadata": {},
     "output_type": "execute_result"
    }
   ],
   "source": [
    "#Modeli eğitme\n",
    "model.fit(X_train, Y_train, epochs = 30, batch_size = 32)"
   ]
  },
  {
   "cell_type": "code",
   "execution_count": 23,
   "id": "77452518",
   "metadata": {},
   "outputs": [
    {
     "data": {
      "text/plain": [
       "0.028582455629241183"
      ]
     },
     "execution_count": 23,
     "metadata": {},
     "output_type": "execute_result"
    }
   ],
   "source": [
    "#Taking predictions\n",
    "Y_pred = model.predict(X_test)\n",
    "\n",
    "from sklearn.metrics import mean_squared_error\n",
    "mse = mean_squared_error(Y_test, Y_pred)\n",
    "\n",
    "rmse = np.sqrt(mse)\n",
    "rmse"
   ]
  },
  {
   "cell_type": "code",
   "execution_count": 24,
   "id": "9bb43edd",
   "metadata": {},
   "outputs": [
    {
     "name": "stdout",
     "output_type": "stream",
     "text": [
      "y_predicted (8760, 1)\n",
      "X_test (8760, 4, 1)\n",
      "scaled Values shape (43800, 1)\n"
     ]
    }
   ],
   "source": [
    "#Y_predicted = scaler.inverse_transform(Y_pred)\n",
    "print('y_predicted',Y_pred.shape)\n",
    "#print('X_train' ,X_train.shape)\n",
    "print('X_test' ,X_test.shape)\n",
    "print('scaled Values shape', scaled_dataset.shape)"
   ]
  },
  {
   "cell_type": "code",
   "execution_count": 25,
   "id": "f013403f",
   "metadata": {},
   "outputs": [
    {
     "name": "stdout",
     "output_type": "stream",
     "text": [
      "dummy (8760, 1)\n",
      "Y_pred (8760, 1)\n",
      "concat y_pred (8760, 1)\n",
      "concat Y_test (8760, 1)\n"
     ]
    }
   ],
   "source": [
    "#Orijinal ölçeğe geri ölçekleme\n",
    "d = scaled_dataset[:8760,:]\n",
    "print('dummy',d.shape)\n",
    "print('Y_pred',Y_pred.shape)\n",
    "Y_predicted = np.concatenate((Y_pred,d[:8760,1:]), axis =1)\n",
    "print('concat y_pred',Y_pred.shape)\n",
    "Y_tested = np.concatenate((Y_test, d[:8760,1:]), axis = 1)\n",
    "print('concat Y_test', Y_test.shape)"
   ]
  },
  {
   "cell_type": "code",
   "execution_count": 26,
   "id": "33ca9674",
   "metadata": {},
   "outputs": [
    {
     "name": "stdout",
     "output_type": "stream",
     "text": [
      "Y_tested (8760, 1)\n",
      "Y_predicted (8760, 1)\n"
     ]
    }
   ],
   "source": [
    "#Ters dönüşüm alma\n",
    "Y_predicted = scaler.inverse_transform(Y_predicted)\n",
    "Y_tested = scaler.inverse_transform(Y_tested)\n",
    "Y_predicted = Y_predicted[:,0:1]\n",
    "Y_tested = Y_tested[:,0:1]\n",
    "print('Y_tested', Y_tested.shape)\n",
    "print('Y_predicted', Y_predicted.shape)"
   ]
  },
  {
   "cell_type": "code",
   "execution_count": 27,
   "id": "14905d38",
   "metadata": {},
   "outputs": [
    {
     "data": {
      "text/plain": [
       "28.41096089546573"
      ]
     },
     "execution_count": 27,
     "metadata": {},
     "output_type": "execute_result"
    }
   ],
   "source": [
    "#Calculate error\n",
    "from sklearn.metrics import mean_squared_error\n",
    "mse = mean_squared_error(Y_tested, Y_predicted)\n",
    "\n",
    "rmse = np.sqrt(mse)\n",
    "rmse"
   ]
  },
  {
   "cell_type": "code",
   "execution_count": 28,
   "id": "cdec6a21",
   "metadata": {},
   "outputs": [
    {
     "data": {
      "image/png": "[encoded data removed]",
      "text/plain": [
       "<Figure size 432x288 with 1 Axes>"
      ]
     },
     "metadata": {
      "needs_background": "light"
     },
     "output_type": "display_data"
    }
   ],
   "source": [
    "#Gerçek ve tahmin edilen değerler arasındaki grafiği çizin\n",
    "plt.plot(Y_predicted[:100,:], color= 'green')\n",
    "plt.plot(Y_tested[:100,:] , color = 'red')\n",
    "plt.title(\"Air Pollution Prediction (Multivariate)\")\n",
    "plt.xlabel(\"Date\")\n",
    "plt.ylabel(\"Pollution level\")\n",
    "plt.show()"
   ]
  }
 ],
 "metadata": {
  "kernelspec": {
   "display_name": "Python 3 (ipykernel)",
   "language": "python",
   "name": "python3"
  },
  "language_info": {
   "codemirror_mode": {
    "name": "ipython",
    "version": 3
   },
   "file_extension": ".py",
   "mimetype": "text/x-python",
   "name": "python",
   "nbconvert_exporter": "python",
   "pygments_lexer": "ipython3",
   "version": "3.9.7"
  }
 },
 "nbformat": 4,
 "nbformat_minor": 5
}
